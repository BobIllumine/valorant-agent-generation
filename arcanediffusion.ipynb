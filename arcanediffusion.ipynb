{
 "cells": [
  {
   "cell_type": "code",
   "execution_count": 1,
   "metadata": {
    "collapsed": true,
    "ExecuteTime": {
     "start_time": "2023-04-28T20:57:49.585937Z",
     "end_time": "2023-04-28T20:57:55.380167Z"
    }
   },
   "outputs": [
    {
     "name": "stdout",
     "output_type": "stream",
     "text": [
      "Requirement already satisfied: diffusers in /home/riseinokoe/anaconda3/envs/ml/lib/python3.10/site-packages (0.16.1)\r\n",
      "Requirement already satisfied: regex!=2019.12.17 in /home/riseinokoe/anaconda3/envs/ml/lib/python3.10/site-packages (from diffusers) (2022.7.9)\r\n",
      "Requirement already satisfied: numpy in /home/riseinokoe/anaconda3/envs/ml/lib/python3.10/site-packages (from diffusers) (1.23.5)\r\n",
      "Requirement already satisfied: importlib-metadata in /home/riseinokoe/anaconda3/envs/ml/lib/python3.10/site-packages (from diffusers) (6.6.0)\r\n",
      "Requirement already satisfied: filelock in /home/riseinokoe/anaconda3/envs/ml/lib/python3.10/site-packages (from diffusers) (3.9.0)\r\n",
      "Requirement already satisfied: requests in /home/riseinokoe/anaconda3/envs/ml/lib/python3.10/site-packages (from diffusers) (2.28.1)\r\n",
      "Requirement already satisfied: huggingface-hub>=0.13.2 in /home/riseinokoe/anaconda3/envs/ml/lib/python3.10/site-packages (from diffusers) (0.14.1)\r\n",
      "Requirement already satisfied: Pillow in /home/riseinokoe/anaconda3/envs/ml/lib/python3.10/site-packages (from diffusers) (9.4.0)\r\n",
      "Requirement already satisfied: fsspec in /home/riseinokoe/anaconda3/envs/ml/lib/python3.10/site-packages (from huggingface-hub>=0.13.2->diffusers) (2023.3.0)\r\n",
      "Requirement already satisfied: tqdm>=4.42.1 in /home/riseinokoe/anaconda3/envs/ml/lib/python3.10/site-packages (from huggingface-hub>=0.13.2->diffusers) (4.65.0)\r\n",
      "Requirement already satisfied: packaging>=20.9 in /home/riseinokoe/anaconda3/envs/ml/lib/python3.10/site-packages (from huggingface-hub>=0.13.2->diffusers) (23.0)\r\n",
      "Requirement already satisfied: typing-extensions>=3.7.4.3 in /home/riseinokoe/anaconda3/envs/ml/lib/python3.10/site-packages (from huggingface-hub>=0.13.2->diffusers) (4.4.0)\r\n",
      "Requirement already satisfied: pyyaml>=5.1 in /home/riseinokoe/anaconda3/envs/ml/lib/python3.10/site-packages (from huggingface-hub>=0.13.2->diffusers) (6.0)\r\n",
      "Requirement already satisfied: zipp>=0.5 in /home/riseinokoe/anaconda3/envs/ml/lib/python3.10/site-packages (from importlib-metadata->diffusers) (3.15.0)\r\n",
      "Requirement already satisfied: urllib3<1.27,>=1.21.1 in /home/riseinokoe/anaconda3/envs/ml/lib/python3.10/site-packages (from requests->diffusers) (1.26.14)\r\n",
      "Requirement already satisfied: idna<4,>=2.5 in /home/riseinokoe/anaconda3/envs/ml/lib/python3.10/site-packages (from requests->diffusers) (3.4)\r\n",
      "Requirement already satisfied: certifi>=2017.4.17 in /home/riseinokoe/anaconda3/envs/ml/lib/python3.10/site-packages (from requests->diffusers) (2022.12.7)\r\n",
      "Requirement already satisfied: charset-normalizer<3,>=2 in /home/riseinokoe/anaconda3/envs/ml/lib/python3.10/site-packages (from requests->diffusers) (2.0.4)\r\n",
      "Requirement already satisfied: transformers in /home/riseinokoe/anaconda3/envs/ml/lib/python3.10/site-packages (4.28.1)\r\n",
      "Requirement already satisfied: tqdm>=4.27 in /home/riseinokoe/anaconda3/envs/ml/lib/python3.10/site-packages (from transformers) (4.65.0)\r\n",
      "Requirement already satisfied: huggingface-hub<1.0,>=0.11.0 in /home/riseinokoe/anaconda3/envs/ml/lib/python3.10/site-packages (from transformers) (0.14.1)\r\n",
      "Requirement already satisfied: pyyaml>=5.1 in /home/riseinokoe/anaconda3/envs/ml/lib/python3.10/site-packages (from transformers) (6.0)\r\n",
      "Requirement already satisfied: regex!=2019.12.17 in /home/riseinokoe/anaconda3/envs/ml/lib/python3.10/site-packages (from transformers) (2022.7.9)\r\n",
      "Requirement already satisfied: filelock in /home/riseinokoe/anaconda3/envs/ml/lib/python3.10/site-packages (from transformers) (3.9.0)\r\n",
      "Requirement already satisfied: tokenizers!=0.11.3,<0.14,>=0.11.1 in /home/riseinokoe/anaconda3/envs/ml/lib/python3.10/site-packages (from transformers) (0.11.4)\r\n",
      "Requirement already satisfied: numpy>=1.17 in /home/riseinokoe/anaconda3/envs/ml/lib/python3.10/site-packages (from transformers) (1.23.5)\r\n",
      "Requirement already satisfied: requests in /home/riseinokoe/anaconda3/envs/ml/lib/python3.10/site-packages (from transformers) (2.28.1)\r\n",
      "Requirement already satisfied: packaging>=20.0 in /home/riseinokoe/anaconda3/envs/ml/lib/python3.10/site-packages (from transformers) (23.0)\r\n",
      "Requirement already satisfied: fsspec in /home/riseinokoe/anaconda3/envs/ml/lib/python3.10/site-packages (from huggingface-hub<1.0,>=0.11.0->transformers) (2023.3.0)\r\n",
      "Requirement already satisfied: typing-extensions>=3.7.4.3 in /home/riseinokoe/anaconda3/envs/ml/lib/python3.10/site-packages (from huggingface-hub<1.0,>=0.11.0->transformers) (4.4.0)\r\n",
      "Requirement already satisfied: idna<4,>=2.5 in /home/riseinokoe/anaconda3/envs/ml/lib/python3.10/site-packages (from requests->transformers) (3.4)\r\n",
      "Requirement already satisfied: certifi>=2017.4.17 in /home/riseinokoe/anaconda3/envs/ml/lib/python3.10/site-packages (from requests->transformers) (2022.12.7)\r\n",
      "Requirement already satisfied: charset-normalizer<3,>=2 in /home/riseinokoe/anaconda3/envs/ml/lib/python3.10/site-packages (from requests->transformers) (2.0.4)\r\n",
      "Requirement already satisfied: urllib3<1.27,>=1.21.1 in /home/riseinokoe/anaconda3/envs/ml/lib/python3.10/site-packages (from requests->transformers) (1.26.14)\r\n",
      "Collecting accelerate\r\n",
      "  Downloading accelerate-0.18.0-py3-none-any.whl (215 kB)\r\n",
      "\u001B[2K     \u001B[90m━━━━━━━━━━━━━━━━━━━━━━━━━━━━━━━━━━━━━━━\u001B[0m \u001B[32m215.3/215.3 kB\u001B[0m \u001B[31m2.2 MB/s\u001B[0m eta \u001B[36m0:00:00\u001B[0ma \u001B[36m0:00:01\u001B[0m\r\n",
      "\u001B[?25hRequirement already satisfied: torch>=1.4.0 in /home/riseinokoe/anaconda3/envs/ml/lib/python3.10/site-packages (from accelerate) (2.0.0)\r\n",
      "Requirement already satisfied: numpy>=1.17 in /home/riseinokoe/anaconda3/envs/ml/lib/python3.10/site-packages (from accelerate) (1.23.5)\r\n",
      "Requirement already satisfied: packaging>=20.0 in /home/riseinokoe/anaconda3/envs/ml/lib/python3.10/site-packages (from accelerate) (23.0)\r\n",
      "Requirement already satisfied: psutil in /home/riseinokoe/anaconda3/envs/ml/lib/python3.10/site-packages (from accelerate) (5.9.0)\r\n",
      "Requirement already satisfied: pyyaml in /home/riseinokoe/anaconda3/envs/ml/lib/python3.10/site-packages (from accelerate) (6.0)\r\n",
      "Requirement already satisfied: filelock in /home/riseinokoe/anaconda3/envs/ml/lib/python3.10/site-packages (from torch>=1.4.0->accelerate) (3.9.0)\r\n",
      "Requirement already satisfied: typing-extensions in /home/riseinokoe/anaconda3/envs/ml/lib/python3.10/site-packages (from torch>=1.4.0->accelerate) (4.4.0)\r\n",
      "Requirement already satisfied: sympy in /home/riseinokoe/anaconda3/envs/ml/lib/python3.10/site-packages (from torch>=1.4.0->accelerate) (1.11.1)\r\n",
      "Requirement already satisfied: networkx in /home/riseinokoe/anaconda3/envs/ml/lib/python3.10/site-packages (from torch>=1.4.0->accelerate) (2.8.4)\r\n",
      "Requirement already satisfied: jinja2 in /home/riseinokoe/anaconda3/envs/ml/lib/python3.10/site-packages (from torch>=1.4.0->accelerate) (3.1.2)\r\n",
      "Requirement already satisfied: MarkupSafe>=2.0 in /home/riseinokoe/anaconda3/envs/ml/lib/python3.10/site-packages (from jinja2->torch>=1.4.0->accelerate) (2.1.1)\r\n",
      "Requirement already satisfied: mpmath>=0.19 in /home/riseinokoe/anaconda3/envs/ml/lib/python3.10/site-packages/mpmath-1.2.1-py3.10.egg (from sympy->torch>=1.4.0->accelerate) (1.2.1)\r\n",
      "Installing collected packages: accelerate\r\n",
      "Successfully installed accelerate-0.18.0\r\n"
     ]
    }
   ],
   "source": [
    "!pip install diffusers\n",
    "!pip install -U transformers\n",
    "!pip install accelerate"
   ]
  },
  {
   "cell_type": "code",
   "execution_count": null,
   "outputs": [
    {
     "data": {
      "text/plain": "Downloading (…)ain/model_index.json:   0%|          | 0.00/555 [00:00<?, ?B/s]",
      "application/vnd.jupyter.widget-view+json": {
       "version_major": 2,
       "version_minor": 0,
       "model_id": "ba729dd818c54c54b5c4d7c0dc20ba30"
      }
     },
     "metadata": {},
     "output_type": "display_data"
    },
    {
     "data": {
      "text/plain": "Fetching 15 files:   0%|          | 0/15 [00:00<?, ?it/s]",
      "application/vnd.jupyter.widget-view+json": {
       "version_major": 2,
       "version_minor": 0,
       "model_id": "f8a7093a11614a039fabccb6333ee639"
      }
     },
     "metadata": {},
     "output_type": "display_data"
    },
    {
     "data": {
      "text/plain": "Downloading (…)rocessor_config.json:   0%|          | 0.00/342 [00:00<?, ?B/s]",
      "application/vnd.jupyter.widget-view+json": {
       "version_major": 2,
       "version_minor": 0,
       "model_id": "4248d718f41644f7b5262d7739394716"
      }
     },
     "metadata": {},
     "output_type": "display_data"
    },
    {
     "data": {
      "text/plain": "Downloading (…)_encoder/config.json:   0%|          | 0.00/617 [00:00<?, ?B/s]",
      "application/vnd.jupyter.widget-view+json": {
       "version_major": 2,
       "version_minor": 0,
       "model_id": "2fcdcca3247b4f29b5c8858e8e9c8e4e"
      }
     },
     "metadata": {},
     "output_type": "display_data"
    },
    {
     "data": {
      "text/plain": "Downloading (…)_checker/config.json:   0%|          | 0.00/4.85k [00:00<?, ?B/s]",
      "application/vnd.jupyter.widget-view+json": {
       "version_major": 2,
       "version_minor": 0,
       "model_id": "31321c50229b467c8522c4d3ede17712"
      }
     },
     "metadata": {},
     "output_type": "display_data"
    },
    {
     "data": {
      "text/plain": "Downloading (…)cial_tokens_map.json:   0%|          | 0.00/472 [00:00<?, ?B/s]",
      "application/vnd.jupyter.widget-view+json": {
       "version_major": 2,
       "version_minor": 0,
       "model_id": "4f8b79d266c340f299b90951f029ee8a"
      }
     },
     "metadata": {},
     "output_type": "display_data"
    },
    {
     "data": {
      "text/plain": "Downloading (…)cheduler_config.json:   0%|          | 0.00/244 [00:00<?, ?B/s]",
      "application/vnd.jupyter.widget-view+json": {
       "version_major": 2,
       "version_minor": 0,
       "model_id": "72151a783829466097fcd13c80c3621e"
      }
     },
     "metadata": {},
     "output_type": "display_data"
    },
    {
     "data": {
      "text/plain": "Downloading (…)tokenizer/merges.txt:   0%|          | 0.00/525k [00:00<?, ?B/s]",
      "application/vnd.jupyter.widget-view+json": {
       "version_major": 2,
       "version_minor": 0,
       "model_id": "f58debc39810460aa91655649df9fb71"
      }
     },
     "metadata": {},
     "output_type": "display_data"
    },
    {
     "data": {
      "text/plain": "Downloading pytorch_model.bin:   0%|          | 0.00/1.22G [00:00<?, ?B/s]",
      "application/vnd.jupyter.widget-view+json": {
       "version_major": 2,
       "version_minor": 0,
       "model_id": "d08ab9841307414aac724be874d6b2df"
      }
     },
     "metadata": {},
     "output_type": "display_data"
    },
    {
     "data": {
      "text/plain": "Downloading pytorch_model.bin:   0%|          | 0.00/492M [00:00<?, ?B/s]",
      "application/vnd.jupyter.widget-view+json": {
       "version_major": 2,
       "version_minor": 0,
       "model_id": "083a748a85054ec1ba525607b9743ae3"
      }
     },
     "metadata": {},
     "output_type": "display_data"
    },
    {
     "data": {
      "text/plain": "Downloading (…)okenizer_config.json:   0%|          | 0.00/806 [00:00<?, ?B/s]",
      "application/vnd.jupyter.widget-view+json": {
       "version_major": 2,
       "version_minor": 0,
       "model_id": "0d46aa6ddf6c4ebe960a5a8e10e8c37c"
      }
     },
     "metadata": {},
     "output_type": "display_data"
    },
    {
     "data": {
      "text/plain": "Downloading (…)b7c/unet/config.json:   0%|          | 0.00/748 [00:00<?, ?B/s]",
      "application/vnd.jupyter.widget-view+json": {
       "version_major": 2,
       "version_minor": 0,
       "model_id": "f26ea657b6524ed8b1d032a4f515cf23"
      }
     },
     "metadata": {},
     "output_type": "display_data"
    },
    {
     "data": {
      "text/plain": "Downloading (…)0b7c/vae/config.json:   0%|          | 0.00/581 [00:00<?, ?B/s]",
      "application/vnd.jupyter.widget-view+json": {
       "version_major": 2,
       "version_minor": 0,
       "model_id": "8317d0d1a9c9431d99e19aaef453445f"
      }
     },
     "metadata": {},
     "output_type": "display_data"
    },
    {
     "data": {
      "text/plain": "Downloading (…)on_pytorch_model.bin:   0%|          | 0.00/3.44G [00:00<?, ?B/s]",
      "application/vnd.jupyter.widget-view+json": {
       "version_major": 2,
       "version_minor": 0,
       "model_id": "aa428bf58fd746a6968620d39034f3c3"
      }
     },
     "metadata": {},
     "output_type": "display_data"
    },
    {
     "data": {
      "text/plain": "Downloading (…)tokenizer/vocab.json:   0%|          | 0.00/1.06M [00:00<?, ?B/s]",
      "application/vnd.jupyter.widget-view+json": {
       "version_major": 2,
       "version_minor": 0,
       "model_id": "c35dbbf4154e4344abdbf196ee2c80cd"
      }
     },
     "metadata": {},
     "output_type": "display_data"
    },
    {
     "data": {
      "text/plain": "Downloading (…)on_pytorch_model.bin:   0%|          | 0.00/335M [00:00<?, ?B/s]",
      "application/vnd.jupyter.widget-view+json": {
       "version_major": 2,
       "version_minor": 0,
       "model_id": "552b006965644455b5c53b619d83e4fe"
      }
     },
     "metadata": {},
     "output_type": "display_data"
    },
    {
     "name": "stderr",
     "output_type": "stream",
     "text": [
      "Cannot initialize model with low cpu memory usage because `accelerate` was not found in the environment. Defaulting to `low_cpu_mem_usage=False`. It is strongly recommended to install `accelerate` for faster and less memory-intense model loading. You can do so with: \n",
      "```\n",
      "pip install accelerate\n",
      "```\n",
      ".\n"
     ]
    }
   ],
   "source": [
    "from diffusers import StableDiffusionPipeline\n",
    "import torch\n",
    "import transformers\n",
    "\n",
    "model_id = \"nitrosocke/Arcane-Diffusion\"\n",
    "pipe = StableDiffusionPipeline.from_pretrained(model_id, torch_dtype=torch.float16)\n",
    "pipe = pipe.to(\"cuda\")\n",
    "\n",
    "prompt = \"arcane style, Kofi Akoto has a dark skin tone and is of Ghanaian descent. His hair is styled in a short afro, and he wears a pair of gold earrings. He wears a green hooded shawl, and he pulls up the hood when he is in his Elemental Form. He wears a green shirt alongside a brown sleeveless vest, donning a mechanical jade arm on the left side of his person, while his right arm is exposed with a gold bracelet on his wrist and his hand is covered by a fingerless green glove. He wears a pair of green jeans with metallic kneecaps, with shoes of the same color\"\n",
    "neg_prompt = \"lowres, bad_anatomy, error_body, error_hair, error_arm, error_hands, bad_hands, error_fingers, bad_fingers, missing_fingers, error_legs, bad_legs, multiple_legs, missing_legs, error_lighting, error_shadow, error_reflection, text, error, extra_digit, fewer_digits, cropped, worst_quality, low_quality, normal_quality, jpeg_artifacts, signature, watermark, username, blurry\"\n",
    "image = pipe(prompt).images[0]\n",
    "\n",
    "image.save(\"./test.png\")"
   ],
   "metadata": {
    "collapsed": false
   }
  },
  {
   "cell_type": "code",
   "execution_count": null,
   "outputs": [],
   "source": [],
   "metadata": {
    "collapsed": false
   }
  }
 ],
 "metadata": {
  "kernelspec": {
   "display_name": "Python 3",
   "language": "python",
   "name": "python3"
  },
  "language_info": {
   "codemirror_mode": {
    "name": "ipython",
    "version": 2
   },
   "file_extension": ".py",
   "mimetype": "text/x-python",
   "name": "python",
   "nbconvert_exporter": "python",
   "pygments_lexer": "ipython2",
   "version": "2.7.6"
  }
 },
 "nbformat": 4,
 "nbformat_minor": 0
}
